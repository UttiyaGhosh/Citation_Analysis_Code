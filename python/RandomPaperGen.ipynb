{
 "cells": [
  {
   "cell_type": "code",
   "execution_count": 6,
   "metadata": {},
   "outputs": [],
   "source": [
    "import pandas as pd\n",
    "import random\n",
    "from random_word import RandomWords\n",
    "import os"
   ]
  },
  {
   "cell_type": "code",
   "execution_count": 7,
   "metadata": {},
   "outputs": [],
   "source": [
    "def get_random_word(num_words):\n",
    "    sent=\"\"\n",
    "    for i in range(num_words):\n",
    "        word_length=random.randrange(4,10)\n",
    "        word=\"\"\n",
    "        for j in range(word_length):\n",
    "            char=97+random.randrange(26)\n",
    "            word+=chr(char)\n",
    "        sent+=word+\" \"\n",
    "    return sent[:-1]"
   ]
  },
  {
   "cell_type": "code",
   "execution_count": 10,
   "metadata": {},
   "outputs": [
    {
     "data": {
      "text/html": [
       "<div>\n",
       "<style scoped>\n",
       "    .dataframe tbody tr th:only-of-type {\n",
       "        vertical-align: middle;\n",
       "    }\n",
       "\n",
       "    .dataframe tbody tr th {\n",
       "        vertical-align: top;\n",
       "    }\n",
       "\n",
       "    .dataframe thead th {\n",
       "        text-align: right;\n",
       "    }\n",
       "</style>\n",
       "<table border=\"1\" class=\"dataframe\">\n",
       "  <thead>\n",
       "    <tr style=\"text-align: right;\">\n",
       "      <th></th>\n",
       "      <th>Year</th>\n",
       "      <th>Cat</th>\n",
       "      <th>Count</th>\n",
       "      <th>Papers</th>\n",
       "    </tr>\n",
       "  </thead>\n",
       "  <tbody>\n",
       "    <tr>\n",
       "      <th>0</th>\n",
       "      <td>2010</td>\n",
       "      <td>1</td>\n",
       "      <td>16</td>\n",
       "      <td>fljam mabxdqgiu phwsdpwrt twyugmd ekjmzbm swob...</td>\n",
       "    </tr>\n",
       "    <tr>\n",
       "      <th>1</th>\n",
       "      <td>2010</td>\n",
       "      <td>2</td>\n",
       "      <td>1</td>\n",
       "      <td>csaljy clmm rpaivk hqukou ihiwdliyn exxgr uuqh...</td>\n",
       "    </tr>\n",
       "    <tr>\n",
       "      <th>2</th>\n",
       "      <td>2010</td>\n",
       "      <td>3</td>\n",
       "      <td>19</td>\n",
       "      <td>loya akyg kfhhlcf tosljlzta nprnlyj egwsh kpce...</td>\n",
       "    </tr>\n",
       "    <tr>\n",
       "      <th>3</th>\n",
       "      <td>2010</td>\n",
       "      <td>4</td>\n",
       "      <td>25</td>\n",
       "      <td>ttilpf phdnwfp pzyyexnv heequdtzs qnythlyvw wk...</td>\n",
       "    </tr>\n",
       "    <tr>\n",
       "      <th>4</th>\n",
       "      <td>2010</td>\n",
       "      <td>5</td>\n",
       "      <td>1</td>\n",
       "      <td>irjkv xmbeit yloaq zpcwagw ryepfo pcteve qrnpr...</td>\n",
       "    </tr>\n",
       "  </tbody>\n",
       "</table>\n",
       "</div>"
      ],
      "text/plain": [
       "   Year  Cat  Count                                             Papers\n",
       "0  2010    1     16  fljam mabxdqgiu phwsdpwrt twyugmd ekjmzbm swob...\n",
       "1  2010    2      1  csaljy clmm rpaivk hqukou ihiwdliyn exxgr uuqh...\n",
       "2  2010    3     19  loya akyg kfhhlcf tosljlzta nprnlyj egwsh kpce...\n",
       "3  2010    4     25  ttilpf phdnwfp pzyyexnv heequdtzs qnythlyvw wk...\n",
       "4  2010    5      1  irjkv xmbeit yloaq zpcwagw ryepfo pcteve qrnpr..."
      ]
     },
     "execution_count": 10,
     "metadata": {},
     "output_type": "execute_result"
    }
   ],
   "source": [
    "data=[]\n",
    "for year in range(2010,2016):\n",
    "    for cat in range(1,16):\n",
    "        data.append([\n",
    "            year,\n",
    "            cat,\n",
    "            random.randrange(30),\n",
    "            get_random_word(10)\n",
    "        ])\n",
    "df=pd.DataFrame(data,columns=[\"Year\",\"Cat\",\"Count\",\"Papers\"])\n",
    "df.head()"
   ]
  },
  {
   "cell_type": "code",
   "execution_count": 11,
   "metadata": {},
   "outputs": [],
   "source": [
    "parent_dir =  os.path.dirname(os.getcwd())\n",
    "data_dir = os.path.join(parent_dir,\"data\")\n",
    "file_name=\"random4.csv\"\n",
    "df.to_csv(os.path.join(data_dir,file_name),index=False)"
   ]
  }
 ],
 "metadata": {
  "kernelspec": {
   "display_name": "Python 3",
   "language": "python",
   "name": "python3"
  },
  "language_info": {
   "codemirror_mode": {
    "name": "ipython",
    "version": 3
   },
   "file_extension": ".py",
   "mimetype": "text/x-python",
   "name": "python",
   "nbconvert_exporter": "python",
   "pygments_lexer": "ipython3",
   "version": "3.7.3"
  }
 },
 "nbformat": 4,
 "nbformat_minor": 2
}
