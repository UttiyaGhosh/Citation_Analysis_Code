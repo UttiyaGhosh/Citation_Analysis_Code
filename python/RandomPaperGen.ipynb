{
 "cells": [
  {
   "cell_type": "code",
   "execution_count": 23,
   "metadata": {},
   "outputs": [],
   "source": [
    "import pandas as pd\n",
    "import random\n",
    "from random_word import RandomWords\n",
    "import os"
   ]
  },
  {
   "cell_type": "code",
   "execution_count": 21,
   "metadata": {},
   "outputs": [],
   "source": [
    "def get_random_word(num_words):\n",
    "    sent=\"\"\n",
    "    for i in range(num_words):\n",
    "        word_length=random.randrange(4,10)\n",
    "        word=\"\"\n",
    "        for j in range(word_length):\n",
    "            char=97+random.randrange(26)\n",
    "            word+=chr(char)\n",
    "        sent+=word+\" \"\n",
    "    return sent[:-1]"
   ]
  },
  {
   "cell_type": "code",
   "execution_count": 22,
   "metadata": {},
   "outputs": [
    {
     "data": {
      "text/html": [
       "<div>\n",
       "<style scoped>\n",
       "    .dataframe tbody tr th:only-of-type {\n",
       "        vertical-align: middle;\n",
       "    }\n",
       "\n",
       "    .dataframe tbody tr th {\n",
       "        vertical-align: top;\n",
       "    }\n",
       "\n",
       "    .dataframe thead th {\n",
       "        text-align: right;\n",
       "    }\n",
       "</style>\n",
       "<table border=\"1\" class=\"dataframe\">\n",
       "  <thead>\n",
       "    <tr style=\"text-align: right;\">\n",
       "      <th></th>\n",
       "      <th>Year</th>\n",
       "      <th>Cat</th>\n",
       "      <th>Count</th>\n",
       "      <th>Papers</th>\n",
       "    </tr>\n",
       "  </thead>\n",
       "  <tbody>\n",
       "    <tr>\n",
       "      <th>0</th>\n",
       "      <td>1990</td>\n",
       "      <td>1</td>\n",
       "      <td>8</td>\n",
       "      <td>uvpz rmqyqoy attwrgq yfln nssmk njhbgt iookac ...</td>\n",
       "    </tr>\n",
       "    <tr>\n",
       "      <th>1</th>\n",
       "      <td>1990</td>\n",
       "      <td>2</td>\n",
       "      <td>0</td>\n",
       "      <td>kahnwfgx bxunqvaqe eccnwuwdy mzmeaf fvmvydnzv ...</td>\n",
       "    </tr>\n",
       "    <tr>\n",
       "      <th>2</th>\n",
       "      <td>1990</td>\n",
       "      <td>3</td>\n",
       "      <td>0</td>\n",
       "      <td>xjitxpa dmxtnmy ufid svjemi fpasbns szwqqvsyl ...</td>\n",
       "    </tr>\n",
       "    <tr>\n",
       "      <th>3</th>\n",
       "      <td>1990</td>\n",
       "      <td>4</td>\n",
       "      <td>6</td>\n",
       "      <td>jfgvj lvkjox ygqpijvtt dspps nbfcv wfbnyzfny a...</td>\n",
       "    </tr>\n",
       "    <tr>\n",
       "      <th>4</th>\n",
       "      <td>1990</td>\n",
       "      <td>5</td>\n",
       "      <td>12</td>\n",
       "      <td>gnaqtg wsnos sexmu uqeh wwjrd wgzvvayc unyisj ...</td>\n",
       "    </tr>\n",
       "  </tbody>\n",
       "</table>\n",
       "</div>"
      ],
      "text/plain": [
       "   Year  Cat  Count                                             Papers\n",
       "0  1990    1      8  uvpz rmqyqoy attwrgq yfln nssmk njhbgt iookac ...\n",
       "1  1990    2      0  kahnwfgx bxunqvaqe eccnwuwdy mzmeaf fvmvydnzv ...\n",
       "2  1990    3      0  xjitxpa dmxtnmy ufid svjemi fpasbns szwqqvsyl ...\n",
       "3  1990    4      6  jfgvj lvkjox ygqpijvtt dspps nbfcv wfbnyzfny a...\n",
       "4  1990    5     12  gnaqtg wsnos sexmu uqeh wwjrd wgzvvayc unyisj ..."
      ]
     },
     "execution_count": 22,
     "metadata": {},
     "output_type": "execute_result"
    }
   ],
   "source": [
    "data=[]\n",
    "for year in range(1990,2011):\n",
    "    for cat in range(1,16):\n",
    "        data.append([\n",
    "            year,\n",
    "            cat,\n",
    "            random.randrange(20),\n",
    "            get_random_word(10)\n",
    "        ])\n",
    "df=pd.DataFrame(data,columns=[\"Year\",\"Cat\",\"Count\",\"Papers\"])\n",
    "df.head()"
   ]
  },
  {
   "cell_type": "code",
   "execution_count": 19,
   "metadata": {},
   "outputs": [
    {
     "data": {
      "text/plain": [
       "[1990, 1, 10, 'hjsydwf inyme ibpqlqr nmusdjsze kajaj s w t z h']"
      ]
     },
     "execution_count": 19,
     "metadata": {},
     "output_type": "execute_result"
    }
   ],
   "source": [
    "data[0]"
   ]
  },
  {
   "cell_type": "code",
   "execution_count": 24,
   "metadata": {},
   "outputs": [
    {
     "data": {
      "text/plain": [
       "'D:\\\\Sem 3\\\\RE\\\\Citation_Analysis_Code\\\\python'"
      ]
     },
     "execution_count": 24,
     "metadata": {},
     "output_type": "execute_result"
    }
   ],
   "source": [
    "os.getcwd()"
   ]
  },
  {
   "cell_type": "code",
   "execution_count": 28,
   "metadata": {},
   "outputs": [],
   "source": [
    "parent_dir =  os.path.dirname(os.getcwd())\n",
    "data_dir = os.path.join(parent_dir,\"data\")\n",
    "file_name=\"random.csv\"\n",
    "df.to_csv(os.path.join(data_dir,file_name),index=False)"
   ]
  }
 ],
 "metadata": {
  "kernelspec": {
   "display_name": "Python 3",
   "language": "python",
   "name": "python3"
  },
  "language_info": {
   "codemirror_mode": {
    "name": "ipython",
    "version": 3
   },
   "file_extension": ".py",
   "mimetype": "text/x-python",
   "name": "python",
   "nbconvert_exporter": "python",
   "pygments_lexer": "ipython3",
   "version": "3.7.3"
  }
 },
 "nbformat": 4,
 "nbformat_minor": 2
}
